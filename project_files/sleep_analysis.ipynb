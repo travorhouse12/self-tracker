{
  "nbformat": 4,
  "nbformat_minor": 0,
  "metadata": {
    "colab": {
      "provenance": []
    },
    "kernelspec": {
      "name": "python3",
      "display_name": "Python 3"
    },
    "language_info": {
      "name": "python"
    }
  },
  "cells": [
    {
      "cell_type": "code",
      "source": [
        "# Import dependencies\n",
        "\n",
        "import requests\n",
        "import pandas as pd\n",
        "import os\n",
        "import datetime\n",
        "from google.cloud import bigquery\n",
        "import sleep_config"
      ],
      "metadata": {
        "id": "2PMAigl35jKf"
      },
      "execution_count": null,
      "outputs": []
    },
    {
      "cell_type": "code",
      "execution_count": null,
      "metadata": {
        "id": "TPSW_0OdzVYu"
      },
      "outputs": [],
      "source": [
        "url = 'https://api.ouraring.com/v2/usercollection/daily_sleep'\n",
        "url_2 = 'https://api.ouraring.com/v2/usercollection/sleep' \n",
        "daily_activity_url = 'https://api.ouraring.com/v2/usercollection/daily_activity'\n",
        "params={\n",
        "    'start_date': datetime.datetime.strptime('2022-06-01', '%Y-%m-%d').strftime('%Y-%m-%d'), \n",
        "    'end_date': datetime.datetime.now().strftime('%Y-%m-%d')\n",
        "}\n",
        "headers = {\n",
        "    'Authorization': f'Bearer {sleep_config.API_KEY}'\n",
        "}\n",
        "response_daily_sleep = requests.request('GET', url, headers=headers, params=params)\n",
        "response_sleep = requests.request('GET', url_2, headers=headers, params=params)\n",
        "response_activity = requests.request('GET', daily_activity_url, params=params, headers=headers)\n",
        "r_daily_sleep = response_daily_sleep.json()\n",
        "r_sleep = response_sleep.json()\n",
        "daily_activity = response_activity.json()"
      ]
    },
    {
      "cell_type": "code",
      "source": [
        "# Convert the Json to a DataFrame\n",
        "df_daily_sleep_score = pd.json_normalize(r_daily_sleep['data'])\n",
        "df_sleep = pd.json_normalize(r_sleep['data'])\n",
        "daily_activity = pd.json_normalize(daily_activity['data'])"
      ],
      "metadata": {
        "id": "r2uEq7DLBZes"
      },
      "execution_count": null,
      "outputs": []
    },
    {
      "cell_type": "code",
      "source": [
        "# Rename the columns by replacing \"contributors.\" with an empty string\n",
        "df_daily_sleep_score.rename(columns=lambda s: s.replace(\"contributors.\", \"\"), inplace=True)\n",
        "df_sleep.rename(columns=lambda x: x.split(\".\")[-1], inplace = True)\n",
        "daily_activity.rename(columns=lambda s: s.replace(\"contributors.\", \"\"), inplace=True)\n",
        "\n",
        "# Convert the day column to a datetime data type\n",
        "df_daily_sleep_score[\"day\"] = pd.to_datetime(df_daily_sleep_score[\"day\"], format=\"%Y/%m/%d\")\n",
        "df_sleep[\"day\"] = pd.to_datetime(df_sleep[\"day\"], format=\"%Y/%m/%d\")\n",
        "daily_activity[\"day\"] = pd.to_datetime(daily_activity[\"day\"], format=\"%Y/%m/%d\")\n",
        "\n",
        "# Remove the timestamp column\n",
        "df_daily_sleep_score.drop(columns=['timestamp'], inplace=True)\n",
        "df_sleep.drop(columns=['average_breath', 'id', 'items', 'type', 'interval', 'sleep_phase_5_min', 'movement_30_sec', 'previous_day_activity', 'previous_night', 'hrv', 'timestamp', 'heart_rate', 'readiness', 'temperature_trend_deviation', 'temperature_deviation'], inplace=True)\n",
        "daily_activity = daily_activity[['score','total_calories','day', 'steps','equivalent_walking_distance','move_every_hour', 'recovery_time', 'high_activity_time', 'medium_activity_time', 'low_activity_time']]"
      ],
      "metadata": {
        "id": "fDqDEw0y0UfE"
      },
      "execution_count": null,
      "outputs": []
    },
    {
      "cell_type": "code",
      "source": [
        "# Set up credentials and connect to BigQuery project and load the data from a Pandas DataFrame into a specific table in BigQuery.\n",
        "client = bigquery.Client()\n",
        "table_id = sleep_config.TABLE\n",
        "sleep_table_id = sleep_config.SLEEP_TABLE\n",
        "daily_activity_table_id = sleep_config.SLEEP_TABLE\n",
        "\n",
        "job_config = bigquery.LoadJobConfig(\n",
        "    write_disposition='WRITE_TRUNCATE'\n",
        ")\n",
        "job = client.load_table_from_dataframe(df_daily_sleep_score, table_id, job_config=job_config)\n",
        "job_sleep = client.load_table_from_dataframe(df_sleep, sleep_table_id, job_config=job_config)\n",
        "job_activity = client.load_table_from_dataframe(daily_activity, daily_activity_table_id, job_config=job_config)"
      ],
      "metadata": {
        "id": "t1t3cKbM9W9W"
      },
      "execution_count": null,
      "outputs": []
    }
  ]
}